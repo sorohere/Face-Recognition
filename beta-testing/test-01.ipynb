{
 "cells": [
  {
   "cell_type": "code",
   "execution_count": 1,
   "id": "dbb5ef28-309c-4447-8dbc-bd5eb2300fab",
   "metadata": {},
   "outputs": [],
   "source": [
    "# Import necessary libraries\n",
    "\n",
    "!pip install ultralytics -q\n",
    "# !pip install gradio -q\n",
    "# !pip install pandas -q\n",
    "!pip install deepface -q"
   ]
  },
  {
   "cell_type": "code",
   "execution_count": null,
   "id": "67268226-bac1-464c-87e2-c5e1fda044e9",
   "metadata": {},
   "outputs": [],
   "source": [
    "# Import necessary libraries\n",
    "from ultralytics import YOLO\n",
    "from ultralytics.engine.results import Results  \n",
    "from deepface import DeepFace\n",
    "from PIL import Image\n",
    "import shutil\n",
    "import os"
   ]
  },
  {
   "cell_type": "code",
   "execution_count": 3,
   "id": "e2c62a9d-8112-49b7-9b8d-43f9e10673c2",
   "metadata": {},
   "outputs": [],
   "source": [
    "def faceRecognition(input_image):\n",
    "    # Path to the directory containing cropped objects\n",
    "    cropped_objects_dir = \"./faces/\"\n",
    "    \n",
    "    # Path to the directory to save unknown faces\n",
    "    unknown_faces_dir = \"./unknown/\"\n",
    "    \n",
    "    # Path to the directory to save known faces\n",
    "    known_faces_dir = \"./known/\"\n",
    "    \n",
    "    # Initialize a list to store the extracted names\n",
    "    extracted_names = []\n",
    "    \n",
    "    # Check if the 'unknown' folder exists, otherwise create it\n",
    "    if not os.path.exists(unknown_faces_dir):\n",
    "        os.makedirs(unknown_faces_dir)\n",
    "    else:\n",
    "        # If the 'unknown' folder exists, clear all files and subfolders\n",
    "        for file_or_folder in os.listdir(unknown_faces_dir):\n",
    "            file_or_folder_path = os.path.join(unknown_faces_dir, file_or_folder)\n",
    "            if os.path.isfile(file_or_folder_path):\n",
    "                os.remove(file_or_folder_path)\n",
    "            elif os.path.isdir(file_or_folder_path):\n",
    "                shutil.rmtree(file_or_folder_path)\n",
    "\n",
    "    # Check if the 'known' folder exists, otherwise create it\n",
    "    if not os.path.exists(known_faces_dir):\n",
    "        os.makedirs(known_faces_dir)\n",
    "    else:\n",
    "        # If the 'known' folder exists, clear all files and subfolders\n",
    "        for file_or_folder in os.listdir(known_faces_dir):\n",
    "            file_or_folder_path = os.path.join(known_faces_dir, file_or_folder)\n",
    "            if os.path.isfile(file_or_folder_path):\n",
    "                os.remove(file_or_folder_path)\n",
    "            elif os.path.isdir(file_or_folder_path):\n",
    "                shutil.rmtree(file_or_folder_path)\n",
    "\n",
    "    # Iterate through the image files in the directory\n",
    "    for filename in os.listdir(cropped_objects_dir):\n",
    "        if filename.endswith(\".jpg\"):\n",
    "            img_path = os.path.join(cropped_objects_dir, filename)\n",
    "            model = DeepFace.find(img_path=img_path, db_path=\"database\", enforce_detection=False, model_name=\"Facenet512\")\n",
    "\n",
    "            # Check if a face was recognized in the image\n",
    "            if model and len(model[0]['identity']) > 0:\n",
    "                # Extract the name and append it to the list\n",
    "                identity_path = model[0]['identity'][0]\n",
    "                # Replace backslashes with forward slashes for cross-platform compatibility\n",
    "                name = identity_path.replace('\\\\', '/').split('/')[1]\n",
    "                \n",
    "                # Save the known face into the 'known' folder\n",
    "                known_faces_path = os.path.join(known_faces_dir, f\"{len(extracted_names) + 1}_{name}.jpg\")\n",
    "                shutil.copy(img_path, known_faces_path)\n",
    "                \n",
    "            else:\n",
    "                # If no face is recognized, set name to 'unknown'\n",
    "                name = 'unknown'\n",
    "                \n",
    "                # Save the unknown face into the 'unknown' folder\n",
    "                unknown_faces_path = os.path.join(unknown_faces_dir, f\"{len(extracted_names) + 1}.jpg\")\n",
    "                shutil.copy(img_path, unknown_faces_path)\n",
    "                \n",
    "            extracted_names.append(name)\n",
    "            \n",
    "    return extracted_names"
   ]
  },
  {
   "cell_type": "code",
   "execution_count": 4,
   "id": "f61dff16-32e7-42fc-b312-4d5cb175628d",
   "metadata": {},
   "outputs": [],
   "source": [
    "def faceExtraction(input_image, model, results):\n",
    "    # Load the image\n",
    "    image = Image.open(input_image)\n",
    "    detected_objects = []\n",
    "\n",
    "    if hasattr(results, 'boxes') and hasattr(results, 'names'):\n",
    "        for box in results.boxes.xyxy:\n",
    "            object_id = int(box[-1])\n",
    "            object_name = results.names.get(object_id)\n",
    "            x1, y1, x2, y2 = int(box[0]), int(box[1]), int(box[2]), int(box[3])\n",
    "\n",
    "            detected_objects.append((object_name, (x1, y1, x2, y2)))\n",
    "\n",
    "    # Create or clear the 'faces' directory\n",
    "    if os.path.exists(\"faces\"):\n",
    "        shutil.rmtree(\"faces\")\n",
    "    os.makedirs(\"faces\")\n",
    "\n",
    "    # Crop and save each detected object\n",
    "    for i, (object_name, (x1, y1, x2, y2)) in enumerate(detected_objects):\n",
    "        object_image = image.crop((x1, y1, x2, y2))\n",
    "        object_image.save(f\"faces/face{i}.jpg\")\n",
    "        \n",
    "    return 0"
   ]
  },
  {
   "cell_type": "code",
   "execution_count": 5,
   "id": "05b301be-5c7c-46d8-b23e-0c7686cf9e17",
   "metadata": {},
   "outputs": [],
   "source": [
    "def faceDetection(input_image):\n",
    "    model = YOLO('best.pt')\n",
    "    results: Results = model.predict(input_image)[0]\n",
    "\n",
    "    return faceExtraction(input_image, model, results)"
   ]
  },
  {
   "cell_type": "code",
   "execution_count": null,
   "id": "062e3b20-c871-4df7-a539-6248c405fc79",
   "metadata": {
    "scrolled": true
   },
   "outputs": [],
   "source": [
    "image = input(\"enter image path : \")\n",
    "faceDetection(image)\n",
    "names = faceRecognition(image)\n",
    "print(names)"
   ]
  }
 ],
 "metadata": {
  "kernelspec": {
   "display_name": "Python 3 (ipykernel)",
   "language": "python",
   "name": "python3"
  },
  "language_info": {
   "codemirror_mode": {
    "name": "ipython",
    "version": 3
   },
   "file_extension": ".py",
   "mimetype": "text/x-python",
   "name": "python",
   "nbconvert_exporter": "python",
   "pygments_lexer": "ipython3",
   "version": "3.12.5"
  }
 },
 "nbformat": 4,
 "nbformat_minor": 5
}
